{
  "nbformat": 4,
  "nbformat_minor": 0,
  "metadata": {
    "colab": {
      "provenance": [],
      "authorship_tag": "ABX9TyN3EdeGO96qMv/tXgemm8TI",
      "include_colab_link": true
    },
    "kernelspec": {
      "name": "python3",
      "display_name": "Python 3"
    },
    "language_info": {
      "name": "python"
    }
  },
  "cells": [
    {
      "cell_type": "markdown",
      "metadata": {
        "id": "view-in-github",
        "colab_type": "text"
      },
      "source": [
        "<a href=\"https://colab.research.google.com/github/Suneelbvs7/Suneelbvs7/blob/main/python%20week1%20assignment.ipynb\" target=\"_parent\"><img src=\"https://colab.research.google.com/assets/colab-badge.svg\" alt=\"Open In Colab\"/></a>"
      ]
    },
    {
      "cell_type": "markdown",
      "source": [
        "Q1. Create one variable containing following type of data:\n",
        "(i) string\n",
        "(ii) list\n",
        "(iii) float\n",
        "(iv) tuple"
      ],
      "metadata": {
        "id": "6M7B7MCWvFLX"
      }
    },
    {
      "cell_type": "code",
      "execution_count": 4,
      "metadata": {
        "colab": {
          "base_uri": "https://localhost:8080/"
        },
        "id": "RfUFWXaouzQ2",
        "outputId": "e4eb95db-0c4f-4665-f354-3987dda04a4a"
      },
      "outputs": [
        {
          "output_type": "stream",
          "name": "stdout",
          "text": [
            "<class 'str'> \n",
            " <class 'list'> \n",
            " <class 'float'> \n",
            " <class 'tuple'>\n"
          ]
        }
      ],
      "source": [
        "string=\"data science\"\n",
        "list1=[2,4,56,7]\n",
        "float1=float(34.5)\n",
        "tuple1=(2,34,5)\n",
        "print(type(string),\"\\n\",type(list1),\"\\n\",type(float1),\"\\n\",type(tuple1))"
      ]
    },
    {
      "cell_type": "markdown",
      "source": [
        "Q2. Given are some following variables containing data:\n",
        "(i) var1 = ' '\n",
        "(ii) var2 = '[ DS , ML , Python]'\n",
        "(iii) var3 = [ 'DS' , 'ML' , 'Python' ]\n",
        "(iv) var4 = 1.\n",
        "What will be the data type of the above given variable."
      ],
      "metadata": {
        "id": "HDenwNN2wMki"
      }
    },
    {
      "cell_type": "code",
      "source": [
        "var1 = ''\n",
        "var2 = '[ DS , ML , Python]'\n",
        "var3 = [ 'DS' , 'ML' , 'Python' ]\n",
        "var4 = 1\n",
        "print(type(var1),\"\\n\",type(var2),\"\\n\",type(var3),\"\\n\",type(var4))"
      ],
      "metadata": {
        "colab": {
          "base_uri": "https://localhost:8080/"
        },
        "id": "sloqdwVGwL3B",
        "outputId": "740fe7e7-27b3-43ed-dba5-c7a3303308fb"
      },
      "execution_count": 9,
      "outputs": [
        {
          "output_type": "stream",
          "name": "stdout",
          "text": [
            "<class 'str'> \n",
            " <class 'str'> \n",
            " <class 'list'> \n",
            " <class 'int'>\n"
          ]
        }
      ]
    },
    {
      "cell_type": "markdown",
      "source": [
        "Q3. Explain the use of the following operators using an example:\n",
        "(i) /\n",
        "(ii) %\n",
        "(iii) //\n",
        "(iv) **"
      ],
      "metadata": {
        "id": "rBHe-vdBxZoT"
      }
    },
    {
      "cell_type": "code",
      "source": [
        "a=10\n",
        "b=5\n",
        "c=a/b\n",
        "d=a%b\n",
        "e=a//b\n",
        "f=a**5\n",
        "print(c,\"\\n\",d,\"\\n\",e,\"\\n\",f)\n",
        "#/ divides with decimal values\n",
        "#% gives remainder\n",
        "#// prints round of value after division\n",
        "#** is used for power of"
      ],
      "metadata": {
        "colab": {
          "base_uri": "https://localhost:8080/"
        },
        "id": "9Arsm0raxdaM",
        "outputId": "79166044-5199-44b3-d5fa-78b2b32176c2"
      },
      "execution_count": 10,
      "outputs": [
        {
          "output_type": "stream",
          "name": "stdout",
          "text": [
            "2.0 \n",
            " 0 \n",
            " 2 \n",
            " 100000\n"
          ]
        }
      ]
    },
    {
      "cell_type": "markdown",
      "source": [
        "Q4. Create a list of length 10 of your choice containing multiple types of data. Using for loop print the\n",
        "element and its data type."
      ],
      "metadata": {
        "id": "P-Vl-V5gyVp0"
      }
    },
    {
      "cell_type": "code",
      "source": [
        "a=[2,4,5,6,5.6,'ertt','TRUE','dg',5]\n",
        "for i in a:\n",
        "  print(i,\"type:\",type(i),\"\\n\")"
      ],
      "metadata": {
        "colab": {
          "base_uri": "https://localhost:8080/"
        },
        "id": "VAVG-wx8yY4x",
        "outputId": "25633ada-3e75-4963-cfe3-459a27771efb"
      },
      "execution_count": 11,
      "outputs": [
        {
          "output_type": "stream",
          "name": "stdout",
          "text": [
            "2 type: <class 'int'> \n",
            "\n",
            "4 type: <class 'int'> \n",
            "\n",
            "5 type: <class 'int'> \n",
            "\n",
            "6 type: <class 'int'> \n",
            "\n",
            "5.6 type: <class 'float'> \n",
            "\n",
            "ertt type: <class 'str'> \n",
            "\n",
            "TRUE type: <class 'str'> \n",
            "\n",
            "dg type: <class 'str'> \n",
            "\n",
            "5 type: <class 'int'> \n",
            "\n"
          ]
        }
      ]
    },
    {
      "cell_type": "markdown",
      "source": [
        "Q5. Using a while loop, verify if the number A is purely divisible by number B and if so then how many\n",
        "times it can be divisible."
      ],
      "metadata": {
        "id": "U7iarK40zMRs"
      }
    },
    {
      "cell_type": "code",
      "source": [
        "a=float(input())\n",
        "b=float(input())\n",
        "c=0\n",
        "while (a>0):\n",
        "  if a%b==0:\n",
        "    c+=1\n",
        "    a=a/b\n",
        "  else:\n",
        "    break\n",
        "print(c)"
      ],
      "metadata": {
        "colab": {
          "base_uri": "https://localhost:8080/"
        },
        "id": "gvayh571zcH5",
        "outputId": "13aade69-9522-4faa-d40a-9098e81596d6"
      },
      "execution_count": 20,
      "outputs": [
        {
          "output_type": "stream",
          "name": "stdout",
          "text": [
            "40\n",
            "2\n",
            "3\n"
          ]
        }
      ]
    },
    {
      "cell_type": "markdown",
      "source": [
        "Q6. Create a list containing 25 int type data. Using for loop and if-else condition print if the element is\n",
        "divisible by 3 or not."
      ],
      "metadata": {
        "id": "Stj8L0Ou0egJ"
      }
    },
    {
      "cell_type": "code",
      "source": [
        "a=[1,2,3,4,5,6,7,8,9,10,11,12,13,14,15,16,17,18,19,20,31,32,33,34,36]\n",
        "for i in a:\n",
        "  if(i%3==0):\n",
        "    print(i,\"divisible by 3\\n\")\n",
        "  else:\n",
        "    print(i,\"not divisible by 3\\n\")"
      ],
      "metadata": {
        "colab": {
          "base_uri": "https://localhost:8080/"
        },
        "id": "-BClfJ-C0hLV",
        "outputId": "d50cea71-e82d-4bc4-8441-3fb8677b7e09"
      },
      "execution_count": 21,
      "outputs": [
        {
          "output_type": "stream",
          "name": "stdout",
          "text": [
            "1 not divisible by 3\n",
            "\n",
            "2 not divisible by 3\n",
            "\n",
            "3 divisible by 3\n",
            "\n",
            "4 not divisible by 3\n",
            "\n",
            "5 not divisible by 3\n",
            "\n",
            "6 divisible by 3\n",
            "\n",
            "7 not divisible by 3\n",
            "\n",
            "8 not divisible by 3\n",
            "\n",
            "9 divisible by 3\n",
            "\n",
            "10 not divisible by 3\n",
            "\n",
            "11 not divisible by 3\n",
            "\n",
            "12 divisible by 3\n",
            "\n",
            "13 not divisible by 3\n",
            "\n",
            "14 not divisible by 3\n",
            "\n",
            "15 divisible by 3\n",
            "\n",
            "16 not divisible by 3\n",
            "\n",
            "17 not divisible by 3\n",
            "\n",
            "18 divisible by 3\n",
            "\n",
            "19 not divisible by 3\n",
            "\n",
            "20 not divisible by 3\n",
            "\n",
            "31 not divisible by 3\n",
            "\n",
            "32 not divisible by 3\n",
            "\n",
            "33 divisible by 3\n",
            "\n",
            "34 not divisible by 3\n",
            "\n",
            "36 divisible by 3\n",
            "\n"
          ]
        }
      ]
    },
    {
      "cell_type": "markdown",
      "source": [
        "Q7. What do you understand about mutable and immutable data types? Give examples for both showing\n",
        "this property."
      ],
      "metadata": {
        "id": "FHV1v82p2sN9"
      }
    },
    {
      "cell_type": "code",
      "source": [
        "#mutable data type is one which can be modified after declaration \n",
        "#immutable data type are one which cannot be modified after declaration\n",
        "\n",
        "list=[2,34,5]\n",
        "tuple=(2,3,4,5,6)\n",
        "list[2]=0\n",
        "print(list)\n",
        "tuple[2]=0\n",
        "print(tuple)"
      ],
      "metadata": {
        "colab": {
          "base_uri": "https://localhost:8080/",
          "height": 235
        },
        "id": "of1iaygS2vgf",
        "outputId": "7e3c6c8c-06d1-4dd6-9929-1683f549e2ce"
      },
      "execution_count": 23,
      "outputs": [
        {
          "output_type": "stream",
          "name": "stdout",
          "text": [
            "[2, 34, 0]\n"
          ]
        },
        {
          "output_type": "error",
          "ename": "TypeError",
          "evalue": "ignored",
          "traceback": [
            "\u001b[0;31m---------------------------------------------------------------------------\u001b[0m",
            "\u001b[0;31mTypeError\u001b[0m                                 Traceback (most recent call last)",
            "\u001b[0;32m<ipython-input-23-482bb32198de>\u001b[0m in \u001b[0;36m<cell line: 8>\u001b[0;34m()\u001b[0m\n\u001b[1;32m      6\u001b[0m \u001b[0mlist\u001b[0m\u001b[0;34m[\u001b[0m\u001b[0;36m2\u001b[0m\u001b[0;34m]\u001b[0m\u001b[0;34m=\u001b[0m\u001b[0;36m0\u001b[0m\u001b[0;34m\u001b[0m\u001b[0;34m\u001b[0m\u001b[0m\n\u001b[1;32m      7\u001b[0m \u001b[0mprint\u001b[0m\u001b[0;34m(\u001b[0m\u001b[0mlist\u001b[0m\u001b[0;34m)\u001b[0m\u001b[0;34m\u001b[0m\u001b[0;34m\u001b[0m\u001b[0m\n\u001b[0;32m----> 8\u001b[0;31m \u001b[0mtuple\u001b[0m\u001b[0;34m[\u001b[0m\u001b[0;36m2\u001b[0m\u001b[0;34m]\u001b[0m\u001b[0;34m=\u001b[0m\u001b[0;36m0\u001b[0m\u001b[0;34m\u001b[0m\u001b[0;34m\u001b[0m\u001b[0m\n\u001b[0m\u001b[1;32m      9\u001b[0m \u001b[0mprint\u001b[0m\u001b[0;34m(\u001b[0m\u001b[0mtuple\u001b[0m\u001b[0;34m)\u001b[0m\u001b[0;34m\u001b[0m\u001b[0;34m\u001b[0m\u001b[0m\n",
            "\u001b[0;31mTypeError\u001b[0m: 'tuple' object does not support item assignment"
          ]
        }
      ]
    }
  ]
}