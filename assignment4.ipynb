{
  "nbformat": 4,
  "nbformat_minor": 0,
  "metadata": {
    "colab": {
      "provenance": [],
      "authorship_tag": "ABX9TyMx1yDDoHODef3tLW2rN5MR",
      "include_colab_link": true
    },
    "kernelspec": {
      "name": "python3",
      "display_name": "Python 3"
    },
    "language_info": {
      "name": "python"
    }
  },
  "cells": [
    {
      "cell_type": "markdown",
      "metadata": {
        "id": "view-in-github",
        "colab_type": "text"
      },
      "source": [
        "<a href=\"https://colab.research.google.com/github/Suneelbvs7/Suneelbvs7/blob/main/assignment4.ipynb\" target=\"_parent\"><img src=\"https://colab.research.google.com/assets/colab-badge.svg\" alt=\"Open In Colab\"/></a>"
      ]
    },
    {
      "cell_type": "markdown",
      "source": [
        "Q1. What is a database? Differentiate between SQL and NoSQL databases.\n",
        "1. Database is a organized of structured data or information.\n",
        "2.SQL is a collection of structed data in the form of tables, where as NOSQL is collection of semi structure or un-structure data in form of documents"
      ],
      "metadata": {
        "id": "swIyD4JYPnAp"
      }
    },
    {
      "cell_type": "markdown",
      "source": [
        "Q2. What is DDL? Explain why CREATE, DROP, ALTER, and TRUNCATE are used with an example.\n",
        "\n",
        "1.DDL(data definition language) - this commands are used for creating and modifying tables\n",
        "2.CREATE- is used to create new tables or databases\n",
        "\n",
        "3.Drop- is used to delete entire table and data\n",
        "\n",
        "4.ALTER- is used to modify tables\n",
        "\n",
        "5.Truncate- is used to delete data without deleting structure of the table"
      ],
      "metadata": {
        "id": "o3Noqd1TVn7C"
      }
    },
    {
      "cell_type": "markdown",
      "source": [
        "Q3. What is DML? Explain INSERT, UPDATE, and DELETE with an example.\n",
        "1.DML- data manupulation language is used to manupulated data in sql\n",
        "\n",
        "2. INSERT- is used to insert new data into table\n",
        "3.UPDATE- is used to update existing data in table\n",
        "4.DELETE - is used to delete existing records in table"
      ],
      "metadata": {
        "id": "PLF9Yut6XC-g"
      }
    },
    {
      "cell_type": "markdown",
      "source": [
        "Q4. What is DQL? Explain SELECT with an example.\n",
        "1. DQL- data query language is used for geting schema related information by quering\n",
        "2.SELECT - is for retrieving data from the database by quering"
      ],
      "metadata": {
        "id": "dnX_BRygX-Ic"
      }
    },
    {
      "cell_type": "markdown",
      "source": [
        "Q5. Explain Primary Key and Foreign Key.\n",
        "1.Primary Key- is used to ensure that data in the specific column is unique. A column cannot have NULL value\n",
        "\n",
        "2.Foregin Key-  is a column or group of columns in a relational database table that provides a link between data in two tables."
      ],
      "metadata": {
        "id": "fqkWhs90Ycb5"
      }
    },
    {
      "cell_type": "markdown",
      "source": [
        "Q6. Write a python code to connect MySQL to python. Explain the cursor() and execute() method."
      ],
      "metadata": {
        "id": "i-E3Uw7-ZAho"
      }
    },
    {
      "cell_type": "code",
      "source": [
        "pip install mysql-connector-python"
      ],
      "metadata": {
        "colab": {
          "base_uri": "https://localhost:8080/"
        },
        "id": "A0B03UxNZytH",
        "outputId": "b4e60e7b-1f86-4ead-a92b-2bb23508e4c7"
      },
      "execution_count": 3,
      "outputs": [
        {
          "output_type": "stream",
          "name": "stdout",
          "text": [
            "Collecting mysql-connector-python\n",
            "  Downloading mysql_connector_python-8.1.0-cp310-cp310-manylinux_2_17_x86_64.whl (27.5 MB)\n",
            "\u001b[2K     \u001b[90m━━━━━━━━━━━━━━━━━━━━━━━━━━━━━━━━━━━━━━━━\u001b[0m \u001b[32m27.5/27.5 MB\u001b[0m \u001b[31m56.0 MB/s\u001b[0m eta \u001b[36m0:00:00\u001b[0m\n",
            "\u001b[?25hCollecting protobuf<=4.21.12,>=4.21.1 (from mysql-connector-python)\n",
            "  Downloading protobuf-4.21.12-cp37-abi3-manylinux2014_x86_64.whl (409 kB)\n",
            "\u001b[2K     \u001b[90m━━━━━━━━━━━━━━━━━━━━━━━━━━━━━━━━━━━━━━\u001b[0m \u001b[32m409.8/409.8 kB\u001b[0m \u001b[31m38.2 MB/s\u001b[0m eta \u001b[36m0:00:00\u001b[0m\n",
            "\u001b[?25hInstalling collected packages: protobuf, mysql-connector-python\n",
            "  Attempting uninstall: protobuf\n",
            "    Found existing installation: protobuf 3.20.3\n",
            "    Uninstalling protobuf-3.20.3:\n",
            "      Successfully uninstalled protobuf-3.20.3\n",
            "Successfully installed mysql-connector-python-8.1.0 protobuf-4.21.12\n"
          ]
        }
      ]
    },
    {
      "cell_type": "code",
      "source": [
        "import mysql.connector\n",
        "\n",
        "mydb = mysql.connector.connect(\n",
        "  host=\"localhost\",\n",
        "  user=\"yourusername\",\n",
        "  password=\"yourpassword\"\n",
        ")\n",
        "\n",
        "print(mydb)"
      ],
      "metadata": {
        "id": "L8RhtDXrnE59"
      },
      "execution_count": null,
      "outputs": []
    },
    {
      "cell_type": "markdown",
      "source": [
        "Q7. Give the order of execution of SQL clauses in an SQL query.\n",
        "Order of execution of sql clauses\n",
        "\n",
        "\n",
        "1.FROM\n",
        "2.WHERE\n",
        "3.GROUP BY\n",
        "4.HAVING\n",
        "5.SELECT\n",
        "6.ORDER BY\n",
        "7.LIMIT\n"
      ],
      "metadata": {
        "id": "eWkK5KkTnF7K"
      }
    }
  ]
}