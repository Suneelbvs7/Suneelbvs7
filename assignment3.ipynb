{
  "nbformat": 4,
  "nbformat_minor": 0,
  "metadata": {
    "colab": {
      "provenance": [],
      "authorship_tag": "ABX9TyNDeXn3LMzFhgTF9Fyxepx9",
      "include_colab_link": true
    },
    "kernelspec": {
      "name": "python3",
      "display_name": "Python 3"
    },
    "language_info": {
      "name": "python"
    }
  },
  "cells": [
    {
      "cell_type": "markdown",
      "metadata": {
        "id": "view-in-github",
        "colab_type": "text"
      },
      "source": [
        "<a href=\"https://colab.research.google.com/github/Suneelbvs7/Suneelbvs7/blob/main/assignment3.ipynb\" target=\"_parent\"><img src=\"https://colab.research.google.com/assets/colab-badge.svg\" alt=\"Open In Colab\"/></a>"
      ]
    },
    {
      "cell_type": "markdown",
      "source": [
        "Q1. Which keyword is used to create a function? Create a function to return a list of odd numbers in the\n",
        "range of 1 to 25.\n",
        "\n",
        "1.   List item: def keyword is used for creating function.\n",
        "\n"
      ],
      "metadata": {
        "id": "1ATD1-Mu7H9y"
      }
    },
    {
      "cell_type": "code",
      "execution_count": null,
      "metadata": {
        "colab": {
          "base_uri": "https://localhost:8080/"
        },
        "id": "7glNtOCe7G7W",
        "outputId": "a895908e-af4a-422a-c405-30c34c5e75fc"
      },
      "outputs": [
        {
          "output_type": "stream",
          "name": "stdout",
          "text": [
            "1\n",
            "3\n",
            "5\n",
            "7\n",
            "9\n",
            "11\n",
            "13\n",
            "15\n",
            "17\n",
            "19\n",
            "21\n",
            "23\n",
            "25\n"
          ]
        }
      ],
      "source": [
        "\n",
        "def odd(num1,num2):\n",
        "    for i in range(num1,num2):\n",
        "      if (i%2!=0):\n",
        "        print(i)\n",
        "num1=1;num2=26\n",
        "odd(num1,num2)"
      ]
    },
    {
      "cell_type": "markdown",
      "source": [
        "Q2. Why *args and **kwargs is used in some functions? Create a function each for *args and **kwargs to\n",
        "demonstrate their use.\n",
        "1. *args allows us to pass a variable number of non-keyword arguments to a Python function\n",
        "2.**kwargs allows us to pass a variable number of keyword arguments to a Python function"
      ],
      "metadata": {
        "id": "J7xg5O599X8B"
      }
    },
    {
      "cell_type": "code",
      "source": [
        "def divide(*args):\n",
        "    print(args, type(args))\n",
        "\n",
        "divide(2, 3)"
      ],
      "metadata": {
        "colab": {
          "base_uri": "https://localhost:8080/"
        },
        "id": "xTSHkUhf9hD-",
        "outputId": "a0dfbc7c-0b04-4cb1-f6c9-f588ab8acc41"
      },
      "execution_count": null,
      "outputs": [
        {
          "output_type": "stream",
          "name": "stdout",
          "text": [
            "(2, 3) <class 'tuple'>\n"
          ]
        }
      ]
    },
    {
      "cell_type": "code",
      "source": [
        "def names(**kwargs):\n",
        "    print(kwargs, type(kwargs))\n",
        "\n",
        "\n",
        "names(suneel=23,tejo=24,geethika=22)"
      ],
      "metadata": {
        "colab": {
          "base_uri": "https://localhost:8080/"
        },
        "id": "qh_3UQb2-7ic",
        "outputId": "3e4cb7b1-ae05-41d5-8e30-7885ed0347dc"
      },
      "execution_count": null,
      "outputs": [
        {
          "output_type": "stream",
          "name": "stdout",
          "text": [
            "{'suneel': 23, 'tejo': 24, 'geethika': 22} <class 'dict'>\n"
          ]
        }
      ]
    },
    {
      "cell_type": "markdown",
      "source": [
        "Q3. What is an iterator in python? Name the method used to initialise the iterator aect and the method\n",
        "used for iteration. Use these methods to print the first five elements of the given list [2, 4, 6, 8, 10, 12, 14, 16,\n",
        "18, 20].\n",
        "1. Iterator aect is used for iterating through data\n",
        "2. iter() is the method used to initialise iterator\n"
      ],
      "metadata": {
        "id": "fRGnvYsn_KvC"
      }
    },
    {
      "cell_type": "code",
      "source": [
        "iterator= [2, 4, 6, 8, 10, 12, 14, 16, 18, 20]\n",
        "iterator=iter(iterator)\n",
        "for i in range(5):\n",
        "  print(next(iterator))"
      ],
      "metadata": {
        "id": "6byVktV43Ifh",
        "colab": {
          "base_uri": "https://localhost:8080/"
        },
        "outputId": "aea2c1d6-668e-46a8-f996-9af2ec39d383"
      },
      "execution_count": 12,
      "outputs": [
        {
          "output_type": "stream",
          "name": "stdout",
          "text": [
            "2\n",
            "4\n",
            "6\n",
            "8\n",
            "10\n"
          ]
        }
      ]
    },
    {
      "cell_type": "markdown",
      "source": [
        "Q4.What is a generator function in python? Why yield keyword is used? Give an example of a generator\n",
        "function.\n",
        "1.A Generator in Python is a function that returns an iterator using the Yield keyword.\n",
        "2.yield function is used for creating generator."
      ],
      "metadata": {
        "id": "5J-iDX7vzMF7"
      }
    },
    {
      "cell_type": "code",
      "source": [
        "\n",
        "def fun_yield():\n",
        "    yield \"hi\"\n",
        "    yield 3\n",
        "\n",
        "\n",
        "a = fun_yield()\n",
        "\n",
        "print(type(a))\n",
        "print(next(a))\n",
        "print(next(a))"
      ],
      "metadata": {
        "colab": {
          "base_uri": "https://localhost:8080/"
        },
        "id": "YlNuEz-E0FaZ",
        "outputId": "0a191c71-9337-4082-ad88-2a2d24c2a572"
      },
      "execution_count": 15,
      "outputs": [
        {
          "output_type": "stream",
          "name": "stdout",
          "text": [
            "<class 'generator'>\n",
            "hi\n",
            "3\n"
          ]
        }
      ]
    },
    {
      "cell_type": "markdown",
      "source": [
        "Q5. Create a generator function for prime numbers less than 1000. Use the next() method to print the\n",
        "first 20 prime numbers."
      ],
      "metadata": {
        "id": "8XkELXcR0qpt"
      }
    },
    {
      "cell_type": "code",
      "source": [
        "def YieldPrime(n):\n",
        "    i = 2\n",
        "    while i < n :\n",
        "        for a in range(2, i):\n",
        "            if i % a == 0:\n",
        "                break\n",
        "        else:\n",
        "            yield i\n",
        "        i+=1\n",
        "a=YieldPrime(1000)\n",
        "b=[]\n",
        "for i in a:\n",
        "  b.append(i)\n",
        "for j in range(20):\n",
        "  print(b[j])\n"
      ],
      "metadata": {
        "colab": {
          "base_uri": "https://localhost:8080/"
        },
        "id": "pTg5dTHL0xRP",
        "outputId": "c4118edd-54ec-44dc-e7b9-c86f99567169"
      },
      "execution_count": 42,
      "outputs": [
        {
          "output_type": "stream",
          "name": "stdout",
          "text": [
            "2\n",
            "3\n",
            "5\n",
            "7\n",
            "11\n",
            "13\n",
            "17\n",
            "19\n",
            "23\n",
            "29\n",
            "31\n",
            "37\n",
            "41\n",
            "43\n",
            "47\n",
            "53\n",
            "59\n",
            "61\n",
            "67\n",
            "71\n"
          ]
        }
      ]
    }
  ]
}