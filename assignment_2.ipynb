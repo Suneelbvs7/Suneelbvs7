{
  "nbformat": 4,
  "nbformat_minor": 0,
  "metadata": {
    "colab": {
      "provenance": [],
      "authorship_tag": "ABX9TyNSXeN4aCT5vshQPlPSYPOJ",
      "include_colab_link": true
    },
    "kernelspec": {
      "name": "python3",
      "display_name": "Python 3"
    },
    "language_info": {
      "name": "python"
    }
  },
  "cells": [
    {
      "cell_type": "markdown",
      "metadata": {
        "id": "view-in-github",
        "colab_type": "text"
      },
      "source": [
        "<a href=\"https://colab.research.google.com/github/Suneelbvs7/Suneelbvs7/blob/main/assignment_2.ipynb\" target=\"_parent\"><img src=\"https://colab.research.google.com/assets/colab-badge.svg\" alt=\"Open In Colab\"/></a>"
      ]
    },
    {
      "cell_type": "markdown",
      "source": [
        "Q1. How do you comment code in Python? What are the different types of comments?"
      ],
      "metadata": {
        "id": "wk9ia3iaga8W"
      }
    },
    {
      "cell_type": "markdown",
      "source": [
        "In  python we  can comment in  three ways\n",
        "1--> using #\n",
        "2--> using \"\"\" \"\"\"\"\n",
        "3--> using ''"
      ],
      "metadata": {
        "id": "-Eygt7tag52I"
      }
    },
    {
      "cell_type": "markdown",
      "source": [
        "Q2. What are variables in Python? How do you declare and assign values to variables?"
      ],
      "metadata": {
        "id": "YIQZ7mKthIPd"
      }
    },
    {
      "cell_type": "markdown",
      "source": [
        "variables are the characters which carry's an value. we can declare and assign values values by declaring variable and using \"=\" symbol we assign values to it.\n",
        " Ex. a= 5"
      ],
      "metadata": {
        "id": "LimFt6BYhSq_"
      }
    },
    {
      "cell_type": "markdown",
      "source": [
        "Q3. How do you convert one data type to another in Python?"
      ],
      "metadata": {
        "id": "JaHQou7Ah28N"
      }
    },
    {
      "cell_type": "markdown",
      "source": [
        "In python we can convert one data type to another by declaring new variable or using previous variable and assigning new data typw to it.\n",
        "\n",
        "Ex. a=int(10)\n",
        "a= str(a)\n",
        "\n",
        "in this example we assigned integer to a and then changing data type of it and re assigning"
      ],
      "metadata": {
        "id": "p7YDiyH9h7ZM"
      }
    },
    {
      "cell_type": "markdown",
      "source": [
        "Q4. How do you write and execute a Python script from the command line?"
      ],
      "metadata": {
        "id": "P7pPdqQWjJQs"
      }
    },
    {
      "cell_type": "markdown",
      "source": [
        "1.For writing pyton code we need install python idle in pc.\n",
        "-->then we need to type python or python3.\n",
        "-->then we write write python code and execute by  entering enter\n",
        "\n",
        "2.For executing existing python file we need specify python file path and then run."
      ],
      "metadata": {
        "id": "4pgIE-M1jMo_"
      }
    },
    {
      "cell_type": "markdown",
      "source": [
        "Q5. Given a list my_list = [1, 2, 3, 4, 5], write the code to slice the list and obtain the sub-list [2, 3]."
      ],
      "metadata": {
        "id": "UgSlKWLSkgw1"
      }
    },
    {
      "cell_type": "markdown",
      "source": [],
      "metadata": {
        "id": "cIJtsJkmi3ry"
      }
    },
    {
      "cell_type": "code",
      "execution_count": 2,
      "metadata": {
        "colab": {
          "base_uri": "https://localhost:8080/"
        },
        "id": "3N-6mQ_TgUEb",
        "outputId": "cc14f470-2fae-41ab-fd4d-7278f669a132"
      },
      "outputs": [
        {
          "output_type": "execute_result",
          "data": {
            "text/plain": [
              "[2, 3]"
            ]
          },
          "metadata": {},
          "execution_count": 2
        }
      ],
      "source": [
        "my_list = [1, 2, 3, 4, 5]\n",
        "sub_list=my_list[1:3]\n",
        "sub_list"
      ]
    },
    {
      "cell_type": "markdown",
      "source": [
        "Q6. What is a complex number in mathematics, and how is it represented in Python?"
      ],
      "metadata": {
        "id": "Z_lfys47k4Va"
      }
    },
    {
      "cell_type": "code",
      "source": [
        "# Complex number is the combination for real number followed by imaginary number.Ex. 3+2i\n",
        "# complex([real[, imag]])\n",
        "a=2+3j\n",
        "print(type(a),a)"
      ],
      "metadata": {
        "colab": {
          "base_uri": "https://localhost:8080/"
        },
        "id": "gDxdR-nGk9tX",
        "outputId": "98fda62b-c1ce-42b9-feb6-9b41ede68264"
      },
      "execution_count": 4,
      "outputs": [
        {
          "output_type": "stream",
          "name": "stdout",
          "text": [
            "<class 'complex'> (2+3j)\n"
          ]
        }
      ]
    },
    {
      "cell_type": "markdown",
      "source": [
        "Q7. What is the correct way to declare a variable named age and assign the value 25 to it?"
      ],
      "metadata": {
        "id": "QFbyVzaJmET6"
      }
    },
    {
      "cell_type": "code",
      "source": [
        "age=25\n",
        "age"
      ],
      "metadata": {
        "colab": {
          "base_uri": "https://localhost:8080/"
        },
        "id": "X22TPEIMmIIH",
        "outputId": "049ccee9-af86-4918-b888-a74ed53e6ab7"
      },
      "execution_count": 5,
      "outputs": [
        {
          "output_type": "execute_result",
          "data": {
            "text/plain": [
              "25"
            ]
          },
          "metadata": {},
          "execution_count": 5
        }
      ]
    },
    {
      "cell_type": "markdown",
      "source": [
        "Q8. Declare a variable named price and assign the value 9.99 to it. What data type does this variable\n",
        "belong to?"
      ],
      "metadata": {
        "id": "t_D7JSvemN7v"
      }
    },
    {
      "cell_type": "code",
      "source": [
        "price=9.99\n",
        "print(type(price))"
      ],
      "metadata": {
        "colab": {
          "base_uri": "https://localhost:8080/"
        },
        "id": "dKojahaamRVF",
        "outputId": "31fc277a-c3df-40b3-9cf2-c802d4595714"
      },
      "execution_count": 6,
      "outputs": [
        {
          "output_type": "stream",
          "name": "stdout",
          "text": [
            "<class 'float'>\n"
          ]
        }
      ]
    },
    {
      "cell_type": "markdown",
      "source": [
        "Q9. Create a variable named name and assign your full name to it as a string. How would you print the\n",
        "value of this variable?"
      ],
      "metadata": {
        "id": "k4QGcC-JmYcc"
      }
    },
    {
      "cell_type": "code",
      "source": [
        "name='suneel kumar'\n",
        "print(type(name),name)"
      ],
      "metadata": {
        "colab": {
          "base_uri": "https://localhost:8080/"
        },
        "id": "KnlwV3uJmbS2",
        "outputId": "49089b89-f1f1-44a0-b721-8f080bf47db6"
      },
      "execution_count": 7,
      "outputs": [
        {
          "output_type": "stream",
          "name": "stdout",
          "text": [
            "<class 'str'> suneel kumar\n"
          ]
        }
      ]
    },
    {
      "cell_type": "markdown",
      "source": [
        "Q10. Given the string \"Hello, World!\", extract the substring \"World\"."
      ],
      "metadata": {
        "id": "ExB7BjkWmmLp"
      }
    },
    {
      "cell_type": "code",
      "source": [
        "string='Hello,World!'\n",
        "print(string[6:11])"
      ],
      "metadata": {
        "colab": {
          "base_uri": "https://localhost:8080/"
        },
        "id": "QG6tBiDLmsxm",
        "outputId": "6d48ddd5-e1fb-4add-e1ea-b7c5ad22eb85"
      },
      "execution_count": 9,
      "outputs": [
        {
          "output_type": "stream",
          "name": "stdout",
          "text": [
            "World\n"
          ]
        }
      ]
    },
    {
      "cell_type": "markdown",
      "source": [
        "Q11. Create a variable named \"is_student\" and assign it a boolean value indicating whether you are\n",
        "currently a student or not."
      ],
      "metadata": {
        "id": "7YveBWignBEL"
      }
    },
    {
      "cell_type": "code",
      "source": [
        "is_student=False\n",
        "print(is_student)"
      ],
      "metadata": {
        "colab": {
          "base_uri": "https://localhost:8080/"
        },
        "id": "MEp-u0rdnE2c",
        "outputId": "7289cdf4-50b8-4149-c201-341ef985c583"
      },
      "execution_count": 10,
      "outputs": [
        {
          "output_type": "stream",
          "name": "stdout",
          "text": [
            "False\n"
          ]
        }
      ]
    }
  ]
}